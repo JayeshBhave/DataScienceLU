{
 "cells": [
  {
   "cell_type": "markdown",
   "metadata": {},
   "source": [
    "# Question 1"
   ]
  },
  {
   "cell_type": "code",
   "execution_count": 27,
   "metadata": {},
   "outputs": [
    {
     "name": "stdout",
     "output_type": "stream",
     "text": [
      "[2, 5, 8, 11, 14, 17, 20, 23, 26, 29, 32, 35, 38, 41, 44, 47, 50]\n"
     ]
    }
   ],
   "source": [
    "import numpy as np\n",
    "arr = np.arange(2,51,3).tolist()\n",
    "print(arr)"
   ]
  },
  {
   "cell_type": "markdown",
   "metadata": {},
   "source": [
    "# Question 2"
   ]
  },
  {
   "cell_type": "code",
   "execution_count": 15,
   "metadata": {},
   "outputs": [
    {
     "name": "stdout",
     "output_type": "stream",
     "text": [
      "Enter Elements for List 1 :-\n",
      "1\n",
      "2\n",
      "3\n",
      "4\n",
      "5\n",
      "Enter Elements for List 2 :-\n",
      "6\n",
      "7\n",
      "8\n",
      "9\n",
      "0\n",
      "Two Lists Entered are :-\n",
      "[1, 2, 3, 4, 5]\n",
      "[6, 7, 8, 9, 0]\n",
      "\n",
      "Two Arrays are :-\n",
      "[1 2 3 4 5]\n",
      "[6 7 8 9 0]\n",
      "\n",
      "Concatenated Array is :-\n",
      "[1 2 3 4 5 6 7 8 9 0]\n",
      "\n",
      "Sorted Array is :-\n",
      "[0 1 2 3 4 5 6 7 8 9]\n"
     ]
    }
   ],
   "source": [
    "list1 = []\n",
    "print(\"Enter Elements for List 1 :-\")\n",
    "for i in range(0,5):\n",
    "    x = int(input())\n",
    "    list1.append(x)\n",
    "\n",
    "\n",
    "list2 = []\n",
    "print(\"Enter Elements for List 2 :-\")\n",
    "for f in range(0,5):\n",
    "    y = int(input())\n",
    "    list2.append(y)\n",
    "print(\"Two Lists Entered are :-\")\n",
    "print(list1)\n",
    "print(list2)\n",
    "print(\"\")\n",
    "import numpy as np\n",
    "np1 = np.array(list1)\n",
    "np2 = np.array(list2)\n",
    "print(\"Two Arrays are :-\")\n",
    "print(np1)\n",
    "print(np2)\n",
    "print(\"\")\n",
    "con = np.concatenate((np1,np2))\n",
    "print(\"Concatenated Array is :-\")\n",
    "print(con)\n",
    "print(\"\")\n",
    "sort = np.sort(con)\n",
    "print(\"Sorted Array is :-\")\n",
    "print(sort)"
   ]
  },
  {
   "cell_type": "markdown",
   "metadata": {},
   "source": [
    "# Question 3"
   ]
  },
  {
   "cell_type": "code",
   "execution_count": 14,
   "metadata": {},
   "outputs": [
    {
     "name": "stdout",
     "output_type": "stream",
     "text": [
      "[[1 2 3]\n",
      " [4 5 6]\n",
      " [7 8 9]]\n",
      "\n",
      "The dimension of above array is :  2\n",
      "\n",
      "The size of above string is :   9\n"
     ]
    }
   ],
   "source": [
    "import numpy as np\n",
    "arr1 = np.array([[1,2,3],[4,5,6],[7,8,9]])\n",
    "print(arr1)\n",
    "print(\"\")\n",
    "print(\"The dimension of above array is :  \" + str(arr1.ndim))\n",
    "print(\"\")\n",
    "print(\"The size of above string is :   \" + str(arr1.size))"
   ]
  },
  {
   "cell_type": "markdown",
   "metadata": {},
   "source": [
    "# Question 4"
   ]
  },
  {
   "cell_type": "code",
   "execution_count": 19,
   "metadata": {},
   "outputs": [
    {
     "name": "stdout",
     "output_type": "stream",
     "text": [
      "1\n",
      "2\n"
     ]
    }
   ],
   "source": [
    "import numpy as np\n",
    "arr2 = np.random.rand(5,)\n",
    "print(arr2.ndim)\n",
    "arr3 = arr2[np.newaxis , :]\n",
    "print(arr3.ndim)\n"
   ]
  },
  {
   "cell_type": "markdown",
   "metadata": {},
   "source": [
    "# Question 5 "
   ]
  },
  {
   "cell_type": "code",
   "execution_count": 24,
   "metadata": {},
   "outputs": [
    {
     "name": "stdout",
     "output_type": "stream",
     "text": [
      "[[0.60418892 0.79721024 0.32485085]\n",
      " [0.43718812 0.53938487 0.49011419]\n",
      " [0.44712414 0.41907165 0.90601531]\n",
      " [0.42692718 0.54179271 0.84828492]\n",
      " [0.31127874 0.46070019 0.19093921]\n",
      " [0.99400198 0.39894116 0.24550118]]\n",
      "\n",
      "[[0.60418892 0.79721024 0.32485085 0.42692718 0.54179271 0.84828492]\n",
      " [0.43718812 0.53938487 0.49011419 0.31127874 0.46070019 0.19093921]\n",
      " [0.44712414 0.41907165 0.90601531 0.99400198 0.39894116 0.24550118]]\n"
     ]
    }
   ],
   "source": [
    "import numpy as np\n",
    "arr1 = np.random.rand(3,3)\n",
    "arr2 = np.random.rand(3,3)\n",
    "print(np.vstack((arr1,arr2)))\n",
    "print()\n",
    "print(np.hstack((arr1,arr2)))"
   ]
  },
  {
   "cell_type": "markdown",
   "metadata": {},
   "source": [
    "# Question 6"
   ]
  },
  {
   "cell_type": "code",
   "execution_count": 26,
   "metadata": {},
   "outputs": [
    {
     "name": "stdout",
     "output_type": "stream",
     "text": [
      "(array([0, 1, 2, 4, 5, 6, 7, 8, 9]), array([1, 1, 5, 4, 2, 3, 3, 3, 1], dtype=int64))\n"
     ]
    }
   ],
   "source": [
    "import numpy as np\n",
    "arr = np.array([1,2,6,4,7,2,7,8,5,4,6,8,7,4,2,5,0,6,4,8,2,9,2])\n",
    "print(np.unique(arr, return_counts=True))"
   ]
  }
 ],
 "metadata": {
  "kernelspec": {
   "display_name": "Python 3",
   "language": "python",
   "name": "python3"
  },
  "language_info": {
   "codemirror_mode": {
    "name": "ipython",
    "version": 3
   },
   "file_extension": ".py",
   "mimetype": "text/x-python",
   "name": "python",
   "nbconvert_exporter": "python",
   "pygments_lexer": "ipython3",
   "version": "3.8.3"
  }
 },
 "nbformat": 4,
 "nbformat_minor": 4
}
